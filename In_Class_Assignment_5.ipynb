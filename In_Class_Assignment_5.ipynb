{
 "cells": [
  {
   "cell_type": "markdown",
   "metadata": {},
   "source": [
    "# In Class Assignment #5: File IO, Recursion\n",
    "\n",
    "## Submit this assignment completed, in its own repository, as a GITHUB LINK. Cite your sources as always"
   ]
  },
  {
   "cell_type": "markdown",
   "metadata": {},
   "source": [
    "# PART 1. \n",
    "Read in \"numbers.txt\" using the \"open file\" method we learned in class. Save the contents in a list variable called \"L\"\n",
    "\n"
   ]
  },
  {
   "cell_type": "code",
   "execution_count": null,
   "metadata": {},
   "outputs": [],
   "source": [
    "#Source is code from last class"
   ]
  },
  {
   "cell_type": "code",
   "execution_count": 1,
   "metadata": {},
   "outputs": [],
   "source": [
    "filename = r\"C:\\Users\\alhoe\\In_Class_Assignment_5\\numbers.txt\""
   ]
  },
  {
   "cell_type": "code",
   "execution_count": 57,
   "metadata": {},
   "outputs": [],
   "source": [
    "L = \"\"\n",
    "nums = []"
   ]
  },
  {
   "cell_type": "code",
   "execution_count": 60,
   "metadata": {},
   "outputs": [
    {
     "name": "stdout",
     "output_type": "stream",
     "text": [
      "['10', '32', '70', '42', '34', '35', '46', '88', '10', '10', '22', '97', '22', '37', '75', '99', '46', '63', '8', '51', '8', '7', '4', '66', '24', '94', '76', '48', '14', '58']\n"
     ]
    }
   ],
   "source": [
    "file_object = open(filename, 'r')\n",
    "for line in file_object:\n",
    "    L = line\n",
    "nums = L.split(\", \")\n",
    "print(nums)"
   ]
  },
  {
   "cell_type": "markdown",
   "metadata": {},
   "source": [
    "# PART 2. \n",
    "\n",
    "Write a Python function called \"sum_recursive()\" that takes a positive integer \"n\" as an input and \n",
    "uses recursion to calculate the *sum of all integers* from 1 to \"n\". Your function should return the sum.\n",
    "\n",
    "For example, if n is 5, your function should calculate and return the sum 1 + 2 + 3 + 4 + 5 = 15.\n",
    "\n",
    "You can assume that the input n will always be a positive integer.\n",
    "\n",
    "You should not use any built-in functions or methods that directly solve this problem (e.g. sum() or range()), \n",
    "and you should use recursion to solve the problem."
   ]
  },
  {
   "cell_type": "code",
   "execution_count": null,
   "metadata": {},
   "outputs": [],
   "source": [
    "#Source: https://stackoverflow.com/questions/19966290/recursive-function-to-calculate-sum-of-1-to-n and code from last class"
   ]
  },
  {
   "cell_type": "code",
   "execution_count": 4,
   "metadata": {},
   "outputs": [],
   "source": [
    "def sum_recursive(n):\n",
    "    if n == 0:\n",
    "        return n\n",
    "    else:\n",
    "        return n + sum_recursive(n-1)"
   ]
  },
  {
   "cell_type": "code",
   "execution_count": 5,
   "metadata": {},
   "outputs": [
    {
     "data": {
      "text/plain": [
       "28"
      ]
     },
     "execution_count": 5,
     "metadata": {},
     "output_type": "execute_result"
    }
   ],
   "source": [
    "sum_recursive(7)\n",
    "#1+2+3+4+5+6+7 = 28"
   ]
  },
  {
   "cell_type": "markdown",
   "metadata": {},
   "source": [
    "## PART 3.\n",
    "\n",
    "Write a Python function called \"looping()\" that takes a list of integers, runs each integer through \"sum_recursive()\", and returns the list of recursively summed integers.\n",
    "\n",
    "ie. if your list is [2, 5, 3], your function output should be [3, 15, 6]"
   ]
  },
  {
   "cell_type": "code",
   "execution_count": null,
   "metadata": {},
   "outputs": [],
   "source": [
    "#Source: Code from previous classes"
   ]
  },
  {
   "cell_type": "code",
   "execution_count": 18,
   "metadata": {},
   "outputs": [],
   "source": [
    "def looping(list):\n",
    "    sum_list = []\n",
    "    for n in list:\n",
    "        sum_list.append(sum_recursive(int(n)))\n",
    "    return sum_list"
   ]
  },
  {
   "cell_type": "code",
   "execution_count": 7,
   "metadata": {},
   "outputs": [
    {
     "data": {
      "text/plain": [
       "[3, 15, 6]"
      ]
     },
     "execution_count": 7,
     "metadata": {},
     "output_type": "execute_result"
    }
   ],
   "source": [
    "looping([2,5,3])"
   ]
  },
  {
   "cell_type": "markdown",
   "metadata": {},
   "source": [
    "## PART 4. \n",
    "You probably saw this coming by now..\n",
    "\n",
    "Please run the contents of the \"numbers.txt\" file (you completed in PART 1) through your \"looping()\" function"
   ]
  },
  {
   "cell_type": "code",
   "execution_count": 52,
   "metadata": {},
   "outputs": [
    {
     "data": {
      "text/plain": [
       "[55,\n",
       " 528,\n",
       " 2485,\n",
       " 903,\n",
       " 595,\n",
       " 630,\n",
       " 1081,\n",
       " 3916,\n",
       " 55,\n",
       " 55,\n",
       " 253,\n",
       " 4753,\n",
       " 253,\n",
       " 703,\n",
       " 2850,\n",
       " 4950,\n",
       " 1081,\n",
       " 2016,\n",
       " 36,\n",
       " 1326,\n",
       " 36,\n",
       " 28,\n",
       " 10,\n",
       " 2211,\n",
       " 300,\n",
       " 4465,\n",
       " 2926,\n",
       " 1176,\n",
       " 105,\n",
       " 1711]"
      ]
     },
     "execution_count": 52,
     "metadata": {},
     "output_type": "execute_result"
    }
   ],
   "source": [
    "looping(nums)"
   ]
  }
 ],
 "metadata": {
  "kernelspec": {
   "display_name": "Python 3 (ipykernel)",
   "language": "python",
   "name": "python3"
  },
  "language_info": {
   "codemirror_mode": {
    "name": "ipython",
    "version": 3
   },
   "file_extension": ".py",
   "mimetype": "text/x-python",
   "name": "python",
   "nbconvert_exporter": "python",
   "pygments_lexer": "ipython3",
   "version": "3.9.13"
  }
 },
 "nbformat": 4,
 "nbformat_minor": 2
}
